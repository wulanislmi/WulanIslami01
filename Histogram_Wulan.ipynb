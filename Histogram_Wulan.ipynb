{
  "nbformat": 4,
  "nbformat_minor": 0,
  "metadata": {
    "colab": {
      "provenance": [],
      "authorship_tag": "ABX9TyMvOQpW3eAMo546veNJ+eHk",
      "include_colab_link": true
    },
    "kernelspec": {
      "name": "python3",
      "display_name": "Python 3"
    },
    "language_info": {
      "name": "python"
    }
  },
  "cells": [
    {
      "cell_type": "markdown",
      "metadata": {
        "id": "view-in-github",
        "colab_type": "text"
      },
      "source": [
        "<a href=\"https://colab.research.google.com/github/wulanislmi/WulanIslami01/blob/main/Histogram_Wulan.ipynb\" target=\"_parent\"><img src=\"https://colab.research.google.com/assets/colab-badge.svg\" alt=\"Open In Colab\"/></a>"
      ]
    },
    {
      "cell_type": "code",
      "execution_count": 1,
      "metadata": {
        "id": "i_nRj-3oyCZM"
      },
      "outputs": [],
      "source": [
        "import cv2\n",
        "import numpy as np\n",
        "from matplotlib import pyplot as plt\n",
        "img = cv2.imread('my.jpeg',0)\n"
      ]
    },
    {
      "cell_type": "code",
      "source": [
        " ls"
      ],
      "metadata": {
        "id": "eKjxXIQAyjQu"
      },
      "execution_count": null,
      "outputs": []
    },
    {
      "cell_type": "code",
      "source": [
        "# create a mask\n",
        "mask = np.zeros(img.shape[:2], np.uint8)\n",
        "mask[100:300, 100:400] = 255\n",
        "masked_img = cv2.bitwise_and(img,img,mask = mask)"
      ],
      "metadata": {
        "id": "kCPEDWD9ypW4"
      },
      "execution_count": null,
      "outputs": []
    },
    {
      "cell_type": "code",
      "source": [
        "# Calculate histogram with mask and without mask\n",
        "# Check third argument for mask\n",
        "hist_full = cv2.calcHist([img],[0],None,[256],[0,256])\n",
        "hist_mask = cv2.calcHist([img],[0],mask,[256],[0,256])"
      ],
      "metadata": {
        "id": "QkHYA7XL1cbs"
      },
      "execution_count": null,
      "outputs": []
    },
    {
      "cell_type": "code",
      "source": [
        "img = cv2.imread('my.jpeg')\n",
        "color = ('b','g','r')\n",
        "for i,col in enumerate(color):\n",
        "    histr = cv2.calcHist([img],[i],None,[256],[0,256])\n",
        "    plt.plot(histr,color = col)\n",
        "    plt.xlim([0,256])\n",
        "plt.show()"
      ],
      "metadata": {
        "id": "prX3_-PS1y8B"
      },
      "execution_count": null,
      "outputs": []
    },
    {
      "cell_type": "code",
      "source": [
        "plt.subplot(221), plt.imshow(img, 'gray')\n",
        "plt.subplot(222), plt.imshow(mask,'gray')\n",
        "plt.subplot(223), plt.imshow(masked_img, 'gray')\n",
        "plt.subplot(224), plt.plot(hist_full), plt.plot(hist_mask)\n",
        "plt.xlim([0,256])\n",
        "\n",
        "plt.show()"
      ],
      "metadata": {
        "id": "ouTJySl_3Tmz"
      },
      "execution_count": null,
      "outputs": []
    }
  ]
}